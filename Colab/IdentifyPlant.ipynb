{
  "nbformat": 4,
  "nbformat_minor": 0,
  "metadata": {
    "colab": {
      "provenance": [],
      "authorship_tag": "ABX9TyOuETeEW6CoY8hnrGQKXHkK",
      "include_colab_link": true
    },
    "kernelspec": {
      "name": "python3",
      "display_name": "Python 3"
    },
    "language_info": {
      "name": "python"
    }
  },
  "cells": [
    {
      "cell_type": "markdown",
      "metadata": {
        "id": "view-in-github",
        "colab_type": "text"
      },
      "source": [
        "<a href=\"https://colab.research.google.com/github/urvashi2004/PlantDoctor/blob/main/Colab/IdentifyPlant.ipynb\" target=\"_parent\"><img src=\"https://colab.research.google.com/assets/colab-badge.svg\" alt=\"Open In Colab\"/></a>"
      ]
    },
    {
      "cell_type": "code",
      "source": [
        "import requests\n",
        "from google.colab import files\n",
        "\n",
        "def upload_image():\n",
        "    uploaded = files.upload()\n",
        "    for filename in uploaded.keys():\n",
        "        return filename\n",
        "    return None\n",
        "\n",
        "def get_plant_identification(api_key, image_file):\n",
        "    # Define the endpoint and parameters\n",
        "    url = f\"https://my-api.plantnet.org/v2/identify/all?include-related-images=true&no-reject=false&nb-results=5&lang=en&type=kt&api-key={api_key}\"\n",
        "\n",
        "    # Open the image file in binary mode\n",
        "    with open(image_file, 'rb') as img:\n",
        "        files = {'images': img}\n",
        "\n",
        "        # Make the API request\n",
        "        response = requests.post(url, files=files)\n",
        "        print(\"API Response:\", response.json())  # Debug print\n",
        "        return response.json()\n",
        "\n",
        "def format_results(results):\n",
        "    output = \"\"\n",
        "    if not results:\n",
        "        return \"No results found.\"\n",
        "\n",
        "    for result in results:\n",
        "        species = result.get(\"species\", {})\n",
        "        scientific_name = species.get(\"scientificName\", \"Unknown\")\n",
        "        common_names = \", \".join(species.get(\"commonNames\", [\"None\"]))\n",
        "        score = result.get(\"score\", \"Unknown\") * 100  # Convert score to percentage\n",
        "        images = result.get(\"images\", [])\n",
        "\n",
        "        output += f\"Species: {scientific_name}\\n\"\n",
        "        output += f\"Common Names: {common_names}\\n\"\n",
        "        output += f\"Matching Score: {score:.2f}%\\n\"\n",
        "        output += \"Images:\\n\"\n",
        "\n",
        "        for i, img in enumerate(images):  # Loop through all images\n",
        "            output += f\"Image {i + 1}: {img.get('url', {}).get('o', 'No URL')}\\n\"\n",
        "\n",
        "        output += \"\\n\"\n",
        "\n",
        "    return output"
      ],
      "metadata": {
        "id": "C1rHqk70X40f"
      },
      "execution_count": null,
      "outputs": []
    }
  ]
}